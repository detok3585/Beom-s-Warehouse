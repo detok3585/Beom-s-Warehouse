{
  "nbformat": 4,
  "nbformat_minor": 0,
  "metadata": {
    "colab": {
      "name": "k-최근접 이웃 학습",
      "version": "0.3.2",
      "provenance": [],
      "collapsed_sections": []
    },
    "kernelspec": {
      "name": "python3",
      "display_name": "Python 3"
    },
    "accelerator": "GPU"
  },
  "cells": [
    {
      "metadata": {
        "id": "K9h1nXtckKKx",
        "colab_type": "text"
      },
      "cell_type": "markdown",
      "source": [
        "#k-최근접 이웃 학습\n",
        "\n",
        "지도학습 중 분류 문제에 사용하는 알고리즘이다.\n",
        "\n",
        "분류 문제란 새로운 데이터가 들어왔을 때 기존 데이터의 그룹 중 어떤 그룹에 속하는지를 분류하는 문제를 말한다.\n",
        "\n",
        "k-NN(k-Nearest Neighbors) 알고리즘은 가장 간단한 머신러닝 알고리즘이다.\n",
        "\n",
        "훈련 데이터셋을 그냥 저장하는 것이 모델을 만드는 과정의 전부~\n",
        "\n",
        "새로운 데이터 포인트에 대해 예측할 땐 알고리즘이 훈련 데이터셋에서 가장 가까운 데이터 포인트, 즉 ‘최근접 이웃’을 찾는 것이 목적~\n",
        "\n",
        "\n",
        "\n",
        "> 쉽게 말해 k-NN은 새로 들어온 \"★은 ■ 그룹의 데이터와 가장 가까우니 ★은 ■ 그룹이다.\" 라고 분류하는 알고리즘이다.\n",
        "\n",
        ">여기서 k의 역할은 몇 번째로 가까운 데이터까지 살펴볼 것인가를 정한 숫자이다."
      ]
    },
    {
      "metadata": {
        "id": "X5-0-QWFlutA",
        "colab_type": "text"
      },
      "cell_type": "markdown",
      "source": [
        "기본 라이브러리들을 호출하자"
      ]
    },
    {
      "metadata": {
        "id": "IhelzygidpeP",
        "colab_type": "code",
        "colab": {}
      },
      "cell_type": "code",
      "source": [
        "import matplotlib.pyplot as plt\n",
        "import pandas as pd\n",
        "import numpy as np\n",
        "\n",
        "from sklearn import neighbors, datasets\n",
        "from matplotlib.colors import ListedColormap"
      ],
      "execution_count": 0,
      "outputs": []
    },
    {
      "metadata": {
        "id": "gOeDa6nRkJEC",
        "colab_type": "text"
      },
      "cell_type": "markdown",
      "source": [
        "iris 데이터 불러오기"
      ]
    },
    {
      "metadata": {
        "id": "6YINZ3hOd5_A",
        "colab_type": "code",
        "colab": {}
      },
      "cell_type": "code",
      "source": [
        "iris = datasets.load_iris()"
      ],
      "execution_count": 0,
      "outputs": []
    },
    {
      "metadata": {
        "id": "ld6tjuw6d-f4",
        "colab_type": "code",
        "colab": {}
      },
      "cell_type": "code",
      "source": [
        "iris"
      ],
      "execution_count": 0,
      "outputs": []
    },
    {
      "metadata": {
        "id": "bxGBtHeLkaDA",
        "colab_type": "text"
      },
      "cell_type": "markdown",
      "source": [
        "데이터의 타입과 형태를 확인하자"
      ]
    },
    {
      "metadata": {
        "id": "bkUaT299d-9H",
        "colab_type": "code",
        "colab": {
          "base_uri": "https://localhost:8080/",
          "height": 35
        },
        "outputId": "51d585de-fc02-4c63-fd32-e3c10f1b29be"
      },
      "cell_type": "code",
      "source": [
        "type(iris),type(iris.data)"
      ],
      "execution_count": 14,
      "outputs": [
        {
          "output_type": "execute_result",
          "data": {
            "text/plain": [
              "(sklearn.utils.Bunch, numpy.ndarray)"
            ]
          },
          "metadata": {
            "tags": []
          },
          "execution_count": 14
        }
      ]
    },
    {
      "metadata": {
        "id": "hi_lpv5rejvv",
        "colab_type": "code",
        "colab": {
          "base_uri": "https://localhost:8080/",
          "height": 35
        },
        "outputId": "845d68ce-c77f-4ae5-cbd8-ba2b1ff3f88e"
      },
      "cell_type": "code",
      "source": [
        "iris.data.shape, iris.target.shape"
      ],
      "execution_count": 15,
      "outputs": [
        {
          "output_type": "execute_result",
          "data": {
            "text/plain": [
              "((150, 4), (150,))"
            ]
          },
          "metadata": {
            "tags": []
          },
          "execution_count": 15
        }
      ]
    },
    {
      "metadata": {
        "id": "KLhXxtS1knkx",
        "colab_type": "text"
      },
      "cell_type": "markdown",
      "source": [
        "iris.data는 붓꽃 개체의 개별 데이터(길이, 넓이 등)고\n",
        "iris.target은 붓꽃 개체의 품종 데이터 이다.\n",
        "\n",
        "입력 데이터 x 에 iris.data를 넣어주는데 이때 길이와 넓이 데이터만 입력하자\n",
        "출력 데이터 y 에 iris.target 데이터를 넣어주자"
      ]
    },
    {
      "metadata": {
        "id": "CWac3T2pepNf",
        "colab_type": "code",
        "colab": {}
      },
      "cell_type": "code",
      "source": [
        "x = iris.data[:,:2] # 0:sepal.length, 1: sepal.width\n",
        "y = iris.target\n",
        "x,y"
      ],
      "execution_count": 0,
      "outputs": []
    },
    {
      "metadata": {
        "id": "5rrA9FFQlVfI",
        "colab_type": "text"
      },
      "cell_type": "markdown",
      "source": [
        "입력데이터의 분포를 보기 위해 산점도그래프 plt.scatter를 이용한다\n",
        "\n",
        "x축에는 sepal.length, y축에는 sepal.width를 대치해 그래프를 그려준다"
      ]
    },
    {
      "metadata": {
        "id": "fGQhjk8cez52",
        "colab_type": "code",
        "colab": {
          "base_uri": "https://localhost:8080/",
          "height": 361
        },
        "outputId": "37b9d73d-370e-4916-c2f0-a2e166019b6f"
      },
      "cell_type": "code",
      "source": [
        "plt.figure()\n",
        "plt.scatter(x[:,0],x[:,1])\n",
        "plt.xlabel(\"sepal.length\")\n",
        "plt.ylabel(\"sepal.width\")\n",
        "plt.show()"
      ],
      "execution_count": 17,
      "outputs": [
        {
          "output_type": "display_data",
          "data": {
            "image/png": "[encoded data removed]",
            "text/plain": [
              "<Figure size 576x396 with 1 Axes>"
            ]
          },
          "metadata": {
            "tags": []
          }
        }
      ]
    },
    {
      "metadata": {
        "id": "hWtLyH3xmHGQ",
        "colab_type": "text"
      },
      "cell_type": "markdown",
      "source": [
        "최근접 군집 k의 수를 6으로 설정 후\n",
        "\n",
        "k-최근접이웃 학습 모델 nn을 생성한다. 가중치는 distance로 설정한다\n",
        "\n",
        "모델 nn에 x,y를 피트(fit)한다."
      ]
    },
    {
      "metadata": {
        "id": "P2hRmbp5fgzu",
        "colab_type": "code",
        "colab": {
          "base_uri": "https://localhost:8080/",
          "height": 71
        },
        "outputId": "6f0b5af7-49ac-4d68-9178-7eb365e88afc"
      },
      "cell_type": "code",
      "source": [
        "k = 6\n",
        "nn = neighbors.KNeighborsClassifier(k,weights=\"distance\")\n",
        "nn.fit(x,y)"
      ],
      "execution_count": 18,
      "outputs": [
        {
          "output_type": "execute_result",
          "data": {
            "text/plain": [
              "KNeighborsClassifier(algorithm='auto', leaf_size=30, metric='minkowski',\n",
              "           metric_params=None, n_jobs=None, n_neighbors=6, p=2,\n",
              "           weights='distance')"
            ]
          },
          "metadata": {
            "tags": []
          },
          "execution_count": 18
        }
      ]
    },
    {
      "metadata": {
        "id": "Cy5g4rc2mwx-",
        "colab_type": "text"
      },
      "cell_type": "markdown",
      "source": [
        "모델 nn을 기반으로 해서 이후 값을 예측한다\n",
        "\n",
        "[[7,3]] 을 입력값으로 넣어보자"
      ]
    },
    {
      "metadata": {
        "id": "hHLOmd7EgCs1",
        "colab_type": "code",
        "colab": {
          "base_uri": "https://localhost:8080/",
          "height": 35
        },
        "outputId": "47a3b6ce-aeaf-433e-b8b4-f3d8a88e4e08"
      },
      "cell_type": "code",
      "source": [
        "nn.predict([[7,3]]) # 0:Setisa, 1: Versicolur, 2: Virgina"
      ],
      "execution_count": 19,
      "outputs": [
        {
          "output_type": "execute_result",
          "data": {
            "text/plain": [
              "array([2])"
            ]
          },
          "metadata": {
            "tags": []
          },
          "execution_count": 19
        }
      ]
    },
    {
      "metadata": {
        "id": "nHG50H5EpAdF",
        "colab_type": "text"
      },
      "cell_type": "markdown",
      "source": [
        "**TestData.csv 를 이용한 예제 학습**\n",
        "* TestData.csv이용해서 K Nearest Neighbors 알고리즘을 사용해서 Height, Weight, Age, Class등을 입력시 예측하시오."
      ]
    },
    {
      "metadata": {
        "id": "ySrIlSFDpARF",
        "colab_type": "text"
      },
      "cell_type": "markdown",
      "source": [
        "구글 드라이브에 있는 데이터를 이용하기 위해 아래 코드 실행"
      ]
    },
    {
      "metadata": {
        "id": "LiZy8NxCpMU9",
        "colab_type": "code",
        "colab": {}
      },
      "cell_type": "code",
      "source": [
        "from google.colab import drive\n",
        "\n",
        "drive.mount('/content/gdrive')"
      ],
      "execution_count": 0,
      "outputs": []
    },
    {
      "metadata": {
        "id": "07_K6LlBqad0",
        "colab_type": "code",
        "colab": {}
      },
      "cell_type": "code",
      "source": [
        "df = pd.read_csv(\"/content/gdrive/My Drive/Colab Notebooks/TestData.csv\")"
      ],
      "execution_count": 0,
      "outputs": []
    },
    {
      "metadata": {
        "id": "SnfllYEEqa4F",
        "colab_type": "code",
        "colab": {
          "base_uri": "https://localhost:8080/",
          "height": 297
        },
        "outputId": "f918a494-fe48-473c-daf0-821d753dae62"
      },
      "cell_type": "code",
      "source": [
        "df"
      ],
      "execution_count": 31,
      "outputs": [
        {
          "output_type": "execute_result",
          "data": {
            "text/html": [
              "<div>\n",
              "<style scoped>\n",
              "    .dataframe tbody tr th:only-of-type {\n",
              "        vertical-align: middle;\n",
              "    }\n",
              "\n",
              "    .dataframe tbody tr th {\n",
              "        vertical-align: top;\n",
              "    }\n",
              "\n",
              "    .dataframe thead th {\n",
              "        text-align: right;\n",
              "    }\n",
              "</style>\n",
              "<table border=\"1\" class=\"dataframe\">\n",
              "  <thead>\n",
              "    <tr style=\"text-align: right;\">\n",
              "      <th></th>\n",
              "      <th>Height</th>\n",
              "      <th>Weight</th>\n",
              "      <th>Age</th>\n",
              "      <th>Class</th>\n",
              "    </tr>\n",
              "  </thead>\n",
              "  <tbody>\n",
              "    <tr>\n",
              "      <th>0</th>\n",
              "      <td>1.70</td>\n",
              "      <td>65</td>\n",
              "      <td>20</td>\n",
              "      <td>Programmer</td>\n",
              "    </tr>\n",
              "    <tr>\n",
              "      <th>1</th>\n",
              "      <td>1.90</td>\n",
              "      <td>85</td>\n",
              "      <td>33</td>\n",
              "      <td>Builder</td>\n",
              "    </tr>\n",
              "    <tr>\n",
              "      <th>2</th>\n",
              "      <td>1.78</td>\n",
              "      <td>76</td>\n",
              "      <td>31</td>\n",
              "      <td>Builder</td>\n",
              "    </tr>\n",
              "    <tr>\n",
              "      <th>3</th>\n",
              "      <td>1.73</td>\n",
              "      <td>74</td>\n",
              "      <td>24</td>\n",
              "      <td>Programmer</td>\n",
              "    </tr>\n",
              "    <tr>\n",
              "      <th>4</th>\n",
              "      <td>1.81</td>\n",
              "      <td>75</td>\n",
              "      <td>35</td>\n",
              "      <td>Builder</td>\n",
              "    </tr>\n",
              "    <tr>\n",
              "      <th>5</th>\n",
              "      <td>1.73</td>\n",
              "      <td>70</td>\n",
              "      <td>75</td>\n",
              "      <td>Scientist</td>\n",
              "    </tr>\n",
              "    <tr>\n",
              "      <th>6</th>\n",
              "      <td>1.80</td>\n",
              "      <td>71</td>\n",
              "      <td>63</td>\n",
              "      <td>Scientist</td>\n",
              "    </tr>\n",
              "    <tr>\n",
              "      <th>7</th>\n",
              "      <td>1.75</td>\n",
              "      <td>69</td>\n",
              "      <td>25</td>\n",
              "      <td>Programmer</td>\n",
              "    </tr>\n",
              "  </tbody>\n",
              "</table>\n",
              "</div>"
            ],
            "text/plain": [
              "   Height  Weight  Age       Class\n",
              "0    1.70      65   20  Programmer\n",
              "1    1.90      85   33     Builder\n",
              "2    1.78      76   31     Builder\n",
              "3    1.73      74   24  Programmer\n",
              "4    1.81      75   35     Builder\n",
              "5    1.73      70   75   Scientist\n",
              "6    1.80      71   63   Scientist\n",
              "7    1.75      69   25  Programmer"
            ]
          },
          "metadata": {
            "tags": []
          },
          "execution_count": 31
        }
      ]
    },
    {
      "metadata": {
        "id": "tSXHJFxoro0D",
        "colab_type": "text"
      },
      "cell_type": "markdown",
      "source": [
        "입력 변수 x 에는 Height,Weight,Age 를 넣어주고\n",
        "\n",
        "출력 변수 y에는 Class를 넣어준다.\n",
        "\n",
        "키, 몸무게, 나이를 기반으로 직업을 예상하는 모델이다."
      ]
    },
    {
      "metadata": {
        "id": "XQ_j4E6ErpON",
        "colab_type": "code",
        "colab": {
          "base_uri": "https://localhost:8080/",
          "height": 323
        },
        "outputId": "d4e2341c-a741-4ce5-8ad4-d8490aacd466"
      },
      "cell_type": "code",
      "source": [
        "x = df.iloc[:,:3]\n",
        "y = df.Class\n",
        "x,y"
      ],
      "execution_count": 34,
      "outputs": [
        {
          "output_type": "execute_result",
          "data": {
            "text/plain": [
              "(   Height  Weight  Age\n",
              " 0    1.70      65   20\n",
              " 1    1.90      85   33\n",
              " 2    1.78      76   31\n",
              " 3    1.73      74   24\n",
              " 4    1.81      75   35\n",
              " 5    1.73      70   75\n",
              " 6    1.80      71   63\n",
              " 7    1.75      69   25, 0    Programmer\n",
              " 1       Builder\n",
              " 2       Builder\n",
              " 3    Programmer\n",
              " 4       Builder\n",
              " 5     Scientist\n",
              " 6     Scientist\n",
              " 7    Programmer\n",
              " Name: Class, dtype: object)"
            ]
          },
          "metadata": {
            "tags": []
          },
          "execution_count": 34
        }
      ]
    },
    {
      "metadata": {
        "id": "XDeWwd7-sVAa",
        "colab_type": "text"
      },
      "cell_type": "markdown",
      "source": [
        "k가 6인 k-최근접 이웃 모델을 생성한다. 가중치는 distance로 부여한다.\n",
        "\n",
        "모델 nn에 데이터 x,y를 fit한다."
      ]
    },
    {
      "metadata": {
        "id": "h_Fx4wS-sTcj",
        "colab_type": "code",
        "colab": {
          "base_uri": "https://localhost:8080/",
          "height": 71
        },
        "outputId": "bdb262a0-2a4c-41e2-b2f8-44e78f681a7b"
      },
      "cell_type": "code",
      "source": [
        "k = 6\n",
        "nn = neighbors.KNeighborsClassifier(k,weights=\"distance\")\n",
        "nn.fit(x,y)"
      ],
      "execution_count": 35,
      "outputs": [
        {
          "output_type": "execute_result",
          "data": {
            "text/plain": [
              "KNeighborsClassifier(algorithm='auto', leaf_size=30, metric='minkowski',\n",
              "           metric_params=None, n_jobs=None, n_neighbors=6, p=2,\n",
              "           weights='distance')"
            ]
          },
          "metadata": {
            "tags": []
          },
          "execution_count": 35
        }
      ]
    },
    {
      "metadata": {
        "id": "mjGaCozXsTrj",
        "colab_type": "text"
      },
      "cell_type": "markdown",
      "source": [
        "임의로 키가 1.9미터, 몸무게가 88키로, 나이가 21살인 사람의 데이터를 모델에 넣어\n",
        "\n",
        "직업을 예측한 결과 Builder가 출력되었다."
      ]
    },
    {
      "metadata": {
        "id": "Bl3gVg_Ysi8K",
        "colab_type": "code",
        "colab": {
          "base_uri": "https://localhost:8080/",
          "height": 35
        },
        "outputId": "a883499d-ff07-4706-9e17-8c1b6f78fd36"
      },
      "cell_type": "code",
      "source": [
        "nn.predict([[1.90,88,22]])"
      ],
      "execution_count": 36,
      "outputs": [
        {
          "output_type": "execute_result",
          "data": {
            "text/plain": [
              "array(['Builder'], dtype=object)"
            ]
          },
          "metadata": {
            "tags": []
          },
          "execution_count": 36
        }
      ]
    }
  ]
}